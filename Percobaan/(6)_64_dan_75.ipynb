{
  "nbformat": 4,
  "nbformat_minor": 0,
  "metadata": {
    "colab": {
      "name": "(3) 64 dan 75 ",
      "provenance": [],
      "collapsed_sections": []
    },
    "kernelspec": {
      "name": "python3",
      "display_name": "Python 3"
    },
    "language_info": {
      "name": "python"
    }
  },
  "cells": [
    {
      "cell_type": "markdown",
      "metadata": {
        "id": "YXQyS00DmtPD"
      },
      "source": [
        "INPUT DATA dan Packages"
      ]
    },
    {
      "cell_type": "code",
      "metadata": {
        "id": "OQeBF9sIHNFe"
      },
      "source": [
        "import numpy as np, pandas as pd, matplotlib.pyplot as plt"
      ],
      "execution_count": 1,
      "outputs": []
    },
    {
      "cell_type": "code",
      "metadata": {
        "id": "B_m16DWUUSOE"
      },
      "source": [
        "from matplotlib.pylab import rcParams\n",
        "rcParams['figure.figsize']=20,10\n",
        "from keras.models import Sequential\n",
        "from keras.layers import LSTM,Dropout,Dense\n",
        "from sklearn.preprocessing import MinMaxScaler"
      ],
      "execution_count": 2,
      "outputs": []
    },
    {
      "cell_type": "code",
      "metadata": {
        "id": "4gOWAcXuJYCt"
      },
      "source": [
        "data = pd.read_excel('https://github.com/syachmhrd/DAS/blob/main/Soybean%20Indo%20FIX.xlsx?raw=true')"
      ],
      "execution_count": 3,
      "outputs": []
    },
    {
      "cell_type": "markdown",
      "metadata": {
        "id": "czuEVdzOmy6T"
      },
      "source": [
        "PreProcessing"
      ]
    },
    {
      "cell_type": "code",
      "metadata": {
        "colab": {
          "base_uri": "https://localhost:8080/",
          "height": 205
        },
        "id": "mSkXdeaYDe4x",
        "outputId": "c8753cd7-c6c4-4d9b-eb2c-25da511ef2c2"
      },
      "source": [
        "data.head()"
      ],
      "execution_count": 4,
      "outputs": [
        {
          "output_type": "execute_result",
          "data": {
            "text/html": [
              "<div>\n",
              "<style scoped>\n",
              "    .dataframe tbody tr th:only-of-type {\n",
              "        vertical-align: middle;\n",
              "    }\n",
              "\n",
              "    .dataframe tbody tr th {\n",
              "        vertical-align: top;\n",
              "    }\n",
              "\n",
              "    .dataframe thead th {\n",
              "        text-align: right;\n",
              "    }\n",
              "</style>\n",
              "<table border=\"1\" class=\"dataframe\">\n",
              "  <thead>\n",
              "    <tr style=\"text-align: right;\">\n",
              "      <th></th>\n",
              "      <th>Date</th>\n",
              "      <th>UBCurr</th>\n",
              "      <th>UBLast</th>\n",
              "      <th>AECurr</th>\n",
              "      <th>AELast</th>\n",
              "      <th>TCCurr</th>\n",
              "      <th>TCLast</th>\n",
              "      <th>% change</th>\n",
              "      <th>next year</th>\n",
              "    </tr>\n",
              "  </thead>\n",
              "  <tbody>\n",
              "    <tr>\n",
              "      <th>0</th>\n",
              "      <td>2006-05-18</td>\n",
              "      <td>113.6</td>\n",
              "      <td>43.8</td>\n",
              "      <td>944.7</td>\n",
              "      <td>858.8</td>\n",
              "      <td>1058.0</td>\n",
              "      <td>903.0</td>\n",
              "      <td>17.250166</td>\n",
              "      <td>NaN</td>\n",
              "    </tr>\n",
              "    <tr>\n",
              "      <th>1</th>\n",
              "      <td>2006-05-25</td>\n",
              "      <td>58.9</td>\n",
              "      <td>43.8</td>\n",
              "      <td>1010.7</td>\n",
              "      <td>858.8</td>\n",
              "      <td>1070.0</td>\n",
              "      <td>903.0</td>\n",
              "      <td>18.502105</td>\n",
              "      <td>NaN</td>\n",
              "    </tr>\n",
              "    <tr>\n",
              "      <th>2</th>\n",
              "      <td>2006-06-01</td>\n",
              "      <td>57.8</td>\n",
              "      <td>43.8</td>\n",
              "      <td>1011.8</td>\n",
              "      <td>858.8</td>\n",
              "      <td>1070.0</td>\n",
              "      <td>903.0</td>\n",
              "      <td>18.502105</td>\n",
              "      <td>NaN</td>\n",
              "    </tr>\n",
              "    <tr>\n",
              "      <th>3</th>\n",
              "      <td>2006-06-08</td>\n",
              "      <td>57.0</td>\n",
              "      <td>4.8</td>\n",
              "      <td>1012.6</td>\n",
              "      <td>900.8</td>\n",
              "      <td>1070.0</td>\n",
              "      <td>906.0</td>\n",
              "      <td>18.109541</td>\n",
              "      <td>0.0</td>\n",
              "    </tr>\n",
              "    <tr>\n",
              "      <th>4</th>\n",
              "      <td>2006-06-15</td>\n",
              "      <td>61.5</td>\n",
              "      <td>4.8</td>\n",
              "      <td>1012.6</td>\n",
              "      <td>924.1</td>\n",
              "      <td>1074.0</td>\n",
              "      <td>929.0</td>\n",
              "      <td>15.631392</td>\n",
              "      <td>0.0</td>\n",
              "    </tr>\n",
              "  </tbody>\n",
              "</table>\n",
              "</div>"
            ],
            "text/plain": [
              "        Date  UBCurr  UBLast  AECurr  ...  TCCurr  TCLast   % change  next year\n",
              "0 2006-05-18   113.6    43.8   944.7  ...  1058.0   903.0  17.250166        NaN\n",
              "1 2006-05-25    58.9    43.8  1010.7  ...  1070.0   903.0  18.502105        NaN\n",
              "2 2006-06-01    57.8    43.8  1011.8  ...  1070.0   903.0  18.502105        NaN\n",
              "3 2006-06-08    57.0     4.8  1012.6  ...  1070.0   906.0  18.109541        0.0\n",
              "4 2006-06-15    61.5     4.8  1012.6  ...  1074.0   929.0  15.631392        0.0\n",
              "\n",
              "[5 rows x 9 columns]"
            ]
          },
          "metadata": {},
          "execution_count": 4
        }
      ]
    },
    {
      "cell_type": "code",
      "metadata": {
        "colab": {
          "base_uri": "https://localhost:8080/"
        },
        "id": "qV5b2caeDjYB",
        "outputId": "02d96ea3-d49f-4402-ba84-c75885a752e0"
      },
      "source": [
        "data.info()"
      ],
      "execution_count": 5,
      "outputs": [
        {
          "output_type": "stream",
          "name": "stdout",
          "text": [
            "<class 'pandas.core.frame.DataFrame'>\n",
            "RangeIndex: 587 entries, 0 to 586\n",
            "Data columns (total 9 columns):\n",
            " #   Column     Non-Null Count  Dtype         \n",
            "---  ------     --------------  -----         \n",
            " 0   Date       587 non-null    datetime64[ns]\n",
            " 1   UBCurr     534 non-null    float64       \n",
            " 2   UBLast     534 non-null    float64       \n",
            " 3   AECurr     533 non-null    float64       \n",
            " 4   AELast     534 non-null    float64       \n",
            " 5   TCCurr     534 non-null    float64       \n",
            " 6   TCLast     534 non-null    float64       \n",
            " 7   % change   534 non-null    float64       \n",
            " 8   next year  154 non-null    float64       \n",
            "dtypes: datetime64[ns](1), float64(8)\n",
            "memory usage: 41.4 KB\n"
          ]
        }
      ]
    },
    {
      "cell_type": "code",
      "metadata": {
        "id": "YRNhz67LF88B"
      },
      "source": [
        "data.index=data['Date']"
      ],
      "execution_count": 6,
      "outputs": []
    },
    {
      "cell_type": "code",
      "metadata": {
        "colab": {
          "base_uri": "https://localhost:8080/",
          "height": 501
        },
        "id": "KgkXn9CIFgF7",
        "outputId": "9477cb3d-0ec5-4d75-cdc3-97bb2a6f1fac"
      },
      "source": [
        "plt.figure(figsize=(16,8))\n",
        "plt.plot(data['AELast'], label='AELast Price')"
      ],
      "execution_count": 7,
      "outputs": [
        {
          "output_type": "execute_result",
          "data": {
            "text/plain": [
              "[<matplotlib.lines.Line2D at 0x7f1a6d010110>]"
            ]
          },
          "metadata": {},
          "execution_count": 7
        },
        {
          "output_type": "display_data",
          "data": {
            "image/png": "[encoded data removed]",
            "text/plain": [
              "<Figure size 1152x576 with 1 Axes>"
            ]
          },
          "metadata": {
            "needs_background": "light"
          }
        }
      ]
    },
    {
      "cell_type": "code",
      "metadata": {
        "colab": {
          "base_uri": "https://localhost:8080/"
        },
        "id": "PfHMApGqFymt",
        "outputId": "35263127-c499-4e80-dd7f-c8473abdc4cd"
      },
      "source": [
        "print(data.isnull().sum())\n",
        "print(data.isnull().sum().sum())"
      ],
      "execution_count": 8,
      "outputs": [
        {
          "output_type": "stream",
          "name": "stdout",
          "text": [
            "Date           0\n",
            "UBCurr        53\n",
            "UBLast        53\n",
            "AECurr        54\n",
            "AELast        53\n",
            "TCCurr        53\n",
            "TCLast        53\n",
            "% change      53\n",
            "next year    433\n",
            "dtype: int64\n",
            "805\n"
          ]
        }
      ]
    },
    {
      "cell_type": "code",
      "metadata": {
        "colab": {
          "base_uri": "https://localhost:8080/"
        },
        "id": "zUdp7gWXLOxe",
        "outputId": "0867a1e3-5c14-482f-c708-6d35b3eef908"
      },
      "source": [
        "print(data['AELast'].describe())\n",
        "print(data['AELast'].mode())"
      ],
      "execution_count": 9,
      "outputs": [
        {
          "output_type": "stream",
          "name": "stdout",
          "text": [
            "count     534.000000\n",
            "mean      816.376030\n",
            "std       563.877828\n",
            "min         0.000000\n",
            "25%       362.750000\n",
            "50%       767.750000\n",
            "75%      1171.775000\n",
            "max      5216.700000\n",
            "Name: AELast, dtype: float64\n",
            "0    948.6\n",
            "dtype: float64\n"
          ]
        }
      ]
    },
    {
      "cell_type": "code",
      "metadata": {
        "id": "Gmv0sjZqM-gc"
      },
      "source": [
        "data['AELast'] = data['AELast'].replace(np.nan, 816.4)"
      ],
      "execution_count": 10,
      "outputs": []
    },
    {
      "cell_type": "code",
      "metadata": {
        "id": "Nw_hJqMyH5PP"
      },
      "source": [
        "data = data.drop(['next year'], axis=1)\n",
        "data = data.dropna(axis=0)"
      ],
      "execution_count": 11,
      "outputs": []
    },
    {
      "cell_type": "code",
      "metadata": {
        "colab": {
          "base_uri": "https://localhost:8080/",
          "height": 236
        },
        "id": "0LujzJFaH_OL",
        "outputId": "df22a7ac-cc52-4bae-d8b9-46b95aa475cd"
      },
      "source": [
        "data.head()"
      ],
      "execution_count": 12,
      "outputs": [
        {
          "output_type": "execute_result",
          "data": {
            "text/html": [
              "<div>\n",
              "<style scoped>\n",
              "    .dataframe tbody tr th:only-of-type {\n",
              "        vertical-align: middle;\n",
              "    }\n",
              "\n",
              "    .dataframe tbody tr th {\n",
              "        vertical-align: top;\n",
              "    }\n",
              "\n",
              "    .dataframe thead th {\n",
              "        text-align: right;\n",
              "    }\n",
              "</style>\n",
              "<table border=\"1\" class=\"dataframe\">\n",
              "  <thead>\n",
              "    <tr style=\"text-align: right;\">\n",
              "      <th></th>\n",
              "      <th>Date</th>\n",
              "      <th>UBCurr</th>\n",
              "      <th>UBLast</th>\n",
              "      <th>AECurr</th>\n",
              "      <th>AELast</th>\n",
              "      <th>TCCurr</th>\n",
              "      <th>TCLast</th>\n",
              "      <th>% change</th>\n",
              "    </tr>\n",
              "    <tr>\n",
              "      <th>Date</th>\n",
              "      <th></th>\n",
              "      <th></th>\n",
              "      <th></th>\n",
              "      <th></th>\n",
              "      <th></th>\n",
              "      <th></th>\n",
              "      <th></th>\n",
              "      <th></th>\n",
              "    </tr>\n",
              "  </thead>\n",
              "  <tbody>\n",
              "    <tr>\n",
              "      <th>2006-05-18</th>\n",
              "      <td>2006-05-18</td>\n",
              "      <td>113.6</td>\n",
              "      <td>43.8</td>\n",
              "      <td>944.7</td>\n",
              "      <td>858.8</td>\n",
              "      <td>1058.0</td>\n",
              "      <td>903.0</td>\n",
              "      <td>17.250166</td>\n",
              "    </tr>\n",
              "    <tr>\n",
              "      <th>2006-05-25</th>\n",
              "      <td>2006-05-25</td>\n",
              "      <td>58.9</td>\n",
              "      <td>43.8</td>\n",
              "      <td>1010.7</td>\n",
              "      <td>858.8</td>\n",
              "      <td>1070.0</td>\n",
              "      <td>903.0</td>\n",
              "      <td>18.502105</td>\n",
              "    </tr>\n",
              "    <tr>\n",
              "      <th>2006-06-01</th>\n",
              "      <td>2006-06-01</td>\n",
              "      <td>57.8</td>\n",
              "      <td>43.8</td>\n",
              "      <td>1011.8</td>\n",
              "      <td>858.8</td>\n",
              "      <td>1070.0</td>\n",
              "      <td>903.0</td>\n",
              "      <td>18.502105</td>\n",
              "    </tr>\n",
              "    <tr>\n",
              "      <th>2006-06-08</th>\n",
              "      <td>2006-06-08</td>\n",
              "      <td>57.0</td>\n",
              "      <td>4.8</td>\n",
              "      <td>1012.6</td>\n",
              "      <td>900.8</td>\n",
              "      <td>1070.0</td>\n",
              "      <td>906.0</td>\n",
              "      <td>18.109541</td>\n",
              "    </tr>\n",
              "    <tr>\n",
              "      <th>2006-06-15</th>\n",
              "      <td>2006-06-15</td>\n",
              "      <td>61.5</td>\n",
              "      <td>4.8</td>\n",
              "      <td>1012.6</td>\n",
              "      <td>924.1</td>\n",
              "      <td>1074.0</td>\n",
              "      <td>929.0</td>\n",
              "      <td>15.631392</td>\n",
              "    </tr>\n",
              "  </tbody>\n",
              "</table>\n",
              "</div>"
            ],
            "text/plain": [
              "                 Date  UBCurr  UBLast  ...  TCCurr  TCLast   % change\n",
              "Date                                   ...                           \n",
              "2006-05-18 2006-05-18   113.6    43.8  ...  1058.0   903.0  17.250166\n",
              "2006-05-25 2006-05-25    58.9    43.8  ...  1070.0   903.0  18.502105\n",
              "2006-06-01 2006-06-01    57.8    43.8  ...  1070.0   903.0  18.502105\n",
              "2006-06-08 2006-06-08    57.0     4.8  ...  1070.0   906.0  18.109541\n",
              "2006-06-15 2006-06-15    61.5     4.8  ...  1074.0   929.0  15.631392\n",
              "\n",
              "[5 rows x 8 columns]"
            ]
          },
          "metadata": {},
          "execution_count": 12
        }
      ]
    },
    {
      "cell_type": "code",
      "metadata": {
        "colab": {
          "base_uri": "https://localhost:8080/",
          "height": 501
        },
        "id": "h8oeq8rhJ-qW",
        "outputId": "452f2689-5b02-415b-9785-99c726a1cf8f"
      },
      "source": [
        "plt.figure(figsize=(16,8))\n",
        "plt.plot(data['AELast'], label='AELast Price')"
      ],
      "execution_count": 13,
      "outputs": [
        {
          "output_type": "execute_result",
          "data": {
            "text/plain": [
              "[<matplotlib.lines.Line2D at 0x7f1a6cf665d0>]"
            ]
          },
          "metadata": {},
          "execution_count": 13
        },
        {
          "output_type": "display_data",
          "data": {
            "image/png": "[encoded data removed]",
            "text/plain": [
              "<Figure size 1152x576 with 1 Axes>"
            ]
          },
          "metadata": {
            "needs_background": "light"
          }
        }
      ]
    },
    {
      "cell_type": "code",
      "metadata": {
        "colab": {
          "base_uri": "https://localhost:8080/"
        },
        "id": "AgLFuW2vLfqG",
        "outputId": "0694d19a-c6ed-42c1-fbc5-f0f742c783a0"
      },
      "source": [
        "data.info()"
      ],
      "execution_count": 14,
      "outputs": [
        {
          "output_type": "stream",
          "name": "stdout",
          "text": [
            "<class 'pandas.core.frame.DataFrame'>\n",
            "DatetimeIndex: 533 entries, 2006-05-18 to 2016-09-15\n",
            "Data columns (total 8 columns):\n",
            " #   Column    Non-Null Count  Dtype         \n",
            "---  ------    --------------  -----         \n",
            " 0   Date      533 non-null    datetime64[ns]\n",
            " 1   UBCurr    533 non-null    float64       \n",
            " 2   UBLast    533 non-null    float64       \n",
            " 3   AECurr    533 non-null    float64       \n",
            " 4   AELast    533 non-null    float64       \n",
            " 5   TCCurr    533 non-null    float64       \n",
            " 6   TCLast    533 non-null    float64       \n",
            " 7   % change  533 non-null    float64       \n",
            "dtypes: datetime64[ns](1), float64(7)\n",
            "memory usage: 37.5 KB\n"
          ]
        }
      ]
    },
    {
      "cell_type": "code",
      "metadata": {
        "id": "DmUUSwQvPWCT"
      },
      "source": [
        "new_data=data.iloc[:,4:5].values"
      ],
      "execution_count": 15,
      "outputs": []
    },
    {
      "cell_type": "code",
      "metadata": {
        "id": "w3vU4wVPVSiV"
      },
      "source": [
        "train_data=new_data[0:495,0]\n",
        "valid_data=new_data[495:,0]"
      ],
      "execution_count": 16,
      "outputs": []
    },
    {
      "cell_type": "code",
      "metadata": {
        "colab": {
          "base_uri": "https://localhost:8080/"
        },
        "id": "UYcXfFBuY4TM",
        "outputId": "736d77d7-339a-43fe-cbd8-81a842b0cc9b"
      },
      "source": [
        "train_data.shape,valid_data.shape"
      ],
      "execution_count": 17,
      "outputs": [
        {
          "output_type": "execute_result",
          "data": {
            "text/plain": [
              "((495,), (38,))"
            ]
          },
          "metadata": {},
          "execution_count": 17
        }
      ]
    },
    {
      "cell_type": "code",
      "metadata": {
        "id": "WOPd_bOhZsBw"
      },
      "source": [
        "train_data=train_data.reshape(-1,1)"
      ],
      "execution_count": 18,
      "outputs": []
    },
    {
      "cell_type": "code",
      "metadata": {
        "colab": {
          "base_uri": "https://localhost:8080/"
        },
        "id": "yyFykH4KLj8H",
        "outputId": "e3593405-e076-4c4b-ce31-a193814577e8"
      },
      "source": [
        "train_data.shape"
      ],
      "execution_count": 19,
      "outputs": [
        {
          "output_type": "execute_result",
          "data": {
            "text/plain": [
              "(495, 1)"
            ]
          },
          "metadata": {},
          "execution_count": 19
        }
      ]
    },
    {
      "cell_type": "code",
      "metadata": {
        "id": "e3BF0QEkUHsm"
      },
      "source": [
        "# feature scaling\n",
        "from sklearn.preprocessing import MinMaxScaler\n",
        "sc = MinMaxScaler(feature_range=(0,1))\n",
        "training_set_scaled = sc.fit_transform(train_data)"
      ],
      "execution_count": 20,
      "outputs": []
    },
    {
      "cell_type": "code",
      "metadata": {
        "id": "-_7eaSjXVnK4"
      },
      "source": [
        "#creating a data structure with 90 timesteps and 1 output\n",
        "x_train = []\n",
        "y_train = []\n",
        "\n",
        "for i in range(90, 495):\n",
        "  x_train.append(training_set_scaled[i-90:i,0])\n",
        "  y_train.append(training_set_scaled[i,0])\n",
        "\n",
        "#converting x_train and y_train into numpy array\n",
        "x_train, y_train = np.array(x_train), np.array(y_train)"
      ],
      "execution_count": 21,
      "outputs": []
    },
    {
      "cell_type": "code",
      "metadata": {
        "colab": {
          "base_uri": "https://localhost:8080/"
        },
        "id": "fTFupjKwV8de",
        "outputId": "2e5da7a0-565f-4c95-e568-cc42179ff05a"
      },
      "source": [
        "x_train"
      ],
      "execution_count": 22,
      "outputs": [
        {
          "output_type": "execute_result",
          "data": {
            "text/plain": [
              "array([[0.16462515, 0.16462515, 0.16462515, ..., 0.11781394, 0.1192133 ,\n",
              "        0.11959668],\n",
              "       [0.16462515, 0.16462515, 0.17267621, ..., 0.1192133 , 0.11959668,\n",
              "        0.1200184 ],\n",
              "       [0.16462515, 0.17267621, 0.17714264, ..., 0.11959668, 0.1200184 ,\n",
              "        0.13077233],\n",
              "       ...,\n",
              "       [0.16796059, 0.17399889, 0.20277187, ..., 0.05077923, 0.0583319 ,\n",
              "        0.06475358],\n",
              "       [0.17399889, 0.20277187, 0.20852263, ..., 0.0583319 , 0.06475358,\n",
              "        0.07184619],\n",
              "       [0.20277187, 0.20852263, 0.21147469, ..., 0.06475358, 0.07184619,\n",
              "        0.09134127]])"
            ]
          },
          "metadata": {},
          "execution_count": 22
        }
      ]
    },
    {
      "cell_type": "code",
      "metadata": {
        "colab": {
          "base_uri": "https://localhost:8080/"
        },
        "id": "BG1nWyj5acnN",
        "outputId": "3e66d4f0-239b-4be9-f1c4-3b70072d6d8d"
      },
      "source": [
        "x_train.shape"
      ],
      "execution_count": 23,
      "outputs": [
        {
          "output_type": "execute_result",
          "data": {
            "text/plain": [
              "(405, 90)"
            ]
          },
          "metadata": {},
          "execution_count": 23
        }
      ]
    },
    {
      "cell_type": "code",
      "metadata": {
        "id": "Uqm3mvRQaqxI"
      },
      "source": [
        "# reshaping dataset\n",
        "x_train = x_train.reshape(405,90,1)"
      ],
      "execution_count": 24,
      "outputs": []
    },
    {
      "cell_type": "code",
      "metadata": {
        "colab": {
          "base_uri": "https://localhost:8080/"
        },
        "id": "Wf0IE_APawjF",
        "outputId": "c2975500-e36d-4ea2-a304-2710e7559d4b"
      },
      "source": [
        "x_train.shape"
      ],
      "execution_count": 25,
      "outputs": [
        {
          "output_type": "execute_result",
          "data": {
            "text/plain": [
              "(405, 90, 1)"
            ]
          },
          "metadata": {},
          "execution_count": 25
        }
      ]
    },
    {
      "cell_type": "code",
      "metadata": {
        "colab": {
          "base_uri": "https://localhost:8080/"
        },
        "id": "GXnGT_LFb302",
        "outputId": "0f19adbd-b438-46ec-b6a5-c6d325ac604b"
      },
      "source": [
        "y_train"
      ],
      "execution_count": 26,
      "outputs": [
        {
          "output_type": "execute_result",
          "data": {
            "text/plain": [
              "array([1.20018402e-01, 1.30772327e-01, 1.32612571e-01, 1.34740353e-01,\n",
              "       1.57245002e-01, 1.58126785e-01, 1.59909521e-01, 1.72848736e-01,\n",
              "       1.92420496e-01, 2.05704756e-01, 2.10056166e-01, 2.12605670e-01,\n",
              "       2.15500220e-01, 2.18126402e-01, 2.19544923e-01, 2.34420227e-01,\n",
              "       2.34420227e-01, 2.39998466e-01, 2.47110242e-01, 2.64055821e-01,\n",
              "       2.65838557e-01, 2.67582955e-01, 2.70554182e-01, 2.72911994e-01,\n",
              "       2.75595683e-01, 2.76880020e-01, 2.78126018e-01, 0.00000000e+00,\n",
              "       2.68368892e-04, 1.36101367e-03, 2.07027431e-03, 4.56227117e-03,\n",
              "       6.86257596e-03, 2.43448924e-02, 4.86514463e-02, 5.11817816e-02,\n",
              "       5.69517128e-02, 6.01913087e-02, 6.23190906e-02, 6.36034275e-02,\n",
              "       6.73414227e-02, 6.90858205e-02, 7.18461863e-02, 7.44723676e-02,\n",
              "       7.74244254e-02, 8.05298369e-02, 8.53988153e-02, 8.81783503e-02,\n",
              "       8.97502252e-02, 9.22422221e-02, 9.46958805e-02, 9.59035406e-02,\n",
              "       9.82613530e-02, 1.09686200e-01, 1.11564782e-01, 1.13635057e-01,\n",
              "       1.28165315e-01, 1.32938448e-01, 1.36408074e-01, 1.53775375e-01,\n",
              "       1.57800909e-01, 1.61423889e-01, 1.64299270e-01, 1.66350375e-01,\n",
              "       1.68650680e-01, 1.69666647e-01, 1.81877432e-01, 1.84561121e-01,\n",
              "       1.86708072e-01, 1.88874192e-01, 1.90580252e-01, 1.93014741e-01,\n",
              "       1.94337416e-01, 1.96446029e-01, 1.98382119e-01, 1.99973163e-01,\n",
              "       2.01391684e-01, 2.02771867e-01, 2.04209558e-01, 4.98399371e-04,\n",
              "       2.12778193e-03, 3.33544195e-03, 4.79230165e-03, 7.26512930e-03,\n",
              "       8.26192804e-03, 2.22746181e-02, 2.42107079e-02, 3.83000748e-02,\n",
              "       5.57057143e-02, 5.57057143e-02, 5.72009125e-02, 5.88302950e-02,\n",
              "       5.91370023e-02, 5.96354017e-02, 5.99229398e-02, 7.36864301e-02,\n",
              "       8.72773976e-02, 8.77566278e-02, 9.04403167e-02, 9.22997297e-02,\n",
              "       1.03341193e-01, 1.19194127e-01, 1.21494431e-01, 1.23066306e-01,\n",
              "       1.25788334e-01, 1.41123699e-01, 1.43270650e-01, 1.45896831e-01,\n",
              "       1.47411199e-01, 1.49385627e-01, 1.62880748e-01, 1.65296068e-01,\n",
              "       1.79462112e-01, 1.82797554e-01, 1.85768781e-01, 1.89602622e-01,\n",
              "       1.89602622e-01, 2.16612034e-01, 2.17877202e-01, 2.19353231e-01,\n",
              "       2.21193475e-01, 2.23953841e-01, 2.24643932e-01, 2.25755746e-01,\n",
              "       2.27615159e-01, 2.41167788e-01, 2.42413786e-01, 2.42797171e-01,\n",
              "       2.43410585e-01, 2.55429678e-01, 2.56541492e-01, 1.76356701e-03,\n",
              "       2.85621178e-03, 3.75716449e-03, 4.94565530e-03, 5.04150133e-03,\n",
              "       5.80826960e-03, 6.05746928e-03, 1.89008377e-02, 1.97634520e-02,\n",
              "       3.74182913e-02, 4.19038856e-02, 4.54310196e-02, 4.70795714e-02,\n",
              "       5.18718730e-02, 6.85682520e-02, 7.06193571e-02, 8.81591811e-02,\n",
              "       9.29323135e-02, 9.53859720e-02, 9.92581517e-02, 1.15091916e-01,\n",
              "       1.18043974e-01, 1.20766001e-01, 1.24868212e-01, 1.42293020e-01,\n",
              "       1.46931968e-01, 1.61423889e-01, 1.77027623e-01, 1.80957310e-01,\n",
              "       1.83161769e-01, 1.86535549e-01, 1.88203270e-01, 1.90561083e-01,\n",
              "       1.91883758e-01, 1.92957234e-01, 2.06989093e-01, 2.08906013e-01,\n",
              "       2.10305365e-01, 2.25238177e-01, 2.27155098e-01, 2.29167865e-01,\n",
              "       2.31084785e-01, 2.32464968e-01, 2.34151858e-01, 2.35474534e-01,\n",
              "       2.36797209e-01, 2.50100638e-01, 2.51078268e-01, 2.65608526e-01,\n",
              "       2.67007879e-01, 2.67180401e-01, 0.00000000e+00, 4.60060958e-04,\n",
              "       1.20766001e-03, 1.40318592e-02, 1.48369659e-02, 1.64280100e-02,\n",
              "       1.79232082e-02, 2.04535434e-02, 2.61851362e-02, 3.09966071e-02,\n",
              "       4.30348688e-02, 4.78655088e-02, 5.02808289e-02, 9.35648973e-02,\n",
              "       1.00000000e+00, 1.14881055e-01, 1.17583913e-01, 1.19002434e-01,\n",
              "       1.28376177e-01, 1.30561466e-01, 1.33475185e-01, 1.35392106e-01,\n",
              "       1.39570993e-01, 1.41660437e-01, 1.43769049e-01, 1.45685970e-01,\n",
              "       1.57685893e-01, 1.61462227e-01, 1.64625146e-01, 1.79787989e-01,\n",
              "       1.95909291e-01, 1.98669657e-01, 2.01334177e-01, 2.15634405e-01,\n",
              "       2.17072095e-01, 2.18030556e-01, 2.20158338e-01, 2.35819579e-01,\n",
              "       2.35819579e-01, 2.45174152e-01, 2.48452087e-01, 2.51576667e-01,\n",
              "       2.55122970e-01, 2.58554258e-01, 2.86502962e-01, 2.87346407e-01,\n",
              "       2.88439052e-01, 2.91659478e-01, 2.93959783e-01, 2.98119501e-01,\n",
              "       3.14432496e-01, 3.18343014e-01, 7.09260644e-04, 7.09260644e-04,\n",
              "       6.01913087e-03, 8.70281979e-03, 1.55653957e-02, 1.82299155e-02,\n",
              "       1.90733606e-02, 2.05493895e-02, 2.28113558e-02, 5.08367359e-02,\n",
              "       5.41146702e-02, 5.90219871e-02, 6.21273985e-02, 6.35459198e-02,\n",
              "       6.63062856e-02, 8.04914985e-02, 8.19291890e-02, 8.82933655e-02,\n",
              "       9.03636398e-02, 1.04337991e-01, 1.05794851e-01, 1.13596718e-01,\n",
              "       1.17085514e-01, 1.33935246e-01, 1.35717983e-01, 1.39590162e-01,\n",
              "       1.42101328e-01, 1.46931968e-01, 1.62439857e-01, 1.64299270e-01,\n",
              "       1.66906282e-01, 2.00107348e-01, 2.03672820e-01, 2.05091341e-01,\n",
              "       2.09289398e-01, 2.12471486e-01, 2.14963483e-01, 2.18088063e-01,\n",
              "       2.23072057e-01, 2.41666187e-01, 2.43985661e-01, 2.48605440e-01,\n",
              "       2.51059099e-01, 2.55295493e-01, 2.57921675e-01, 2.61122932e-01,\n",
              "       2.75749037e-01, 2.82879982e-01, 2.87902314e-01, 3.02720110e-01,\n",
              "       3.05097092e-01, 3.12630590e-01, 3.27640079e-01, 1.05430636e-03,\n",
              "       2.41532003e-03, 3.87217973e-03, 1.86132996e-02, 2.56292292e-02,\n",
              "       2.51499990e-01, 4.25173002e-02, 5.63958058e-02, 5.92328484e-02,\n",
              "       6.16481684e-02, 6.30858589e-02, 6.55970249e-02, 6.84148983e-02,\n",
              "       7.14628022e-02, 8.97310560e-02, 9.76287691e-02, 1.00235781e-01,\n",
              "       1.05162267e-01, 1.06274081e-01, 1.09398662e-01, 1.24964058e-01,\n",
              "       1.28088638e-01, 1.31826634e-01, 1.39705178e-01, 1.44631664e-01,\n",
              "       1.67960588e-01, 1.73998888e-01, 2.02771867e-01, 2.08522629e-01,\n",
              "       2.11474687e-01, 2.13621638e-01, 2.23896333e-01, 2.43544770e-01,\n",
              "       2.46439320e-01, 2.60145303e-01, 2.63461575e-01, 2.64458374e-01,\n",
              "       2.66145264e-01, 2.67832154e-01, 2.84701056e-01, 2.90298465e-01,\n",
              "       2.91237756e-01, 2.92407077e-01, 2.97410240e-01, 2.97966147e-01,\n",
              "       2.98349531e-01, 2.98713746e-01, 3.20068242e-01, 3.21659287e-01,\n",
              "       3.22311040e-01, 8.51112772e-03, 2.45174152e-02, 3.19742366e-02,\n",
              "       3.75333065e-02, 3.75333065e-02, 3.75333065e-02, 6.34884122e-02,\n",
              "       8.12582667e-02, 8.53413077e-02, 9.44850193e-02, 9.93156593e-02,\n",
              "       1.04874729e-01, 1.08363525e-01, 1.24369812e-01, 1.27302701e-01,\n",
              "       1.43385665e-01, 1.46146031e-01, 1.48925566e-01, 1.63513332e-01,\n",
              "       1.69896678e-01, 1.80899803e-01, 1.85308720e-01, 1.99570610e-01,\n",
              "       2.05225526e-01, 2.31257308e-01, 2.36586348e-01, 2.54605402e-01,\n",
              "       2.75921560e-01, 2.86042901e-01, 2.95761688e-01, 3.21390918e-01,\n",
              "       3.29614507e-01, 3.48898729e-01, 3.54381122e-01, 3.73569498e-01,\n",
              "       3.78917707e-01, 3.83825023e-01, 3.87083789e-01, 3.93908026e-01,\n",
              "       3.96438361e-01, 3.98566143e-01, 4.06042134e-01, 4.08591638e-01,\n",
              "       4.12329634e-01, 4.30597888e-01, 4.32342285e-01, 2.22535319e-01,\n",
              "       4.33971668e-01, 4.33971668e-01, 4.36502003e-01, 4.37402956e-01,\n",
              "       1.19040773e-02, 1.30158913e-02, 1.42810589e-02, 1.66005329e-02,\n",
              "       1.69839170e-02, 1.82874231e-02, 1.93992371e-02, 2.04727126e-02,\n",
              "       2.32330784e-02, 4.12521326e-02, 4.60252650e-02, 5.07792282e-02,\n",
              "       5.83318956e-02, 6.47535798e-02, 7.18461863e-02, 9.13412694e-02,\n",
              "       9.55201564e-02])"
            ]
          },
          "metadata": {},
          "execution_count": 26
        }
      ]
    },
    {
      "cell_type": "code",
      "metadata": {
        "id": "240gx_uWa8KL"
      },
      "source": [
        "import tensorflow as tf"
      ],
      "execution_count": 27,
      "outputs": []
    },
    {
      "cell_type": "code",
      "metadata": {
        "id": "Z61MtQl_bFVa"
      },
      "source": [
        "# define an object (inilitizing RNN)\n",
        "model = tf.keras.models.Sequential()"
      ],
      "execution_count": 28,
      "outputs": []
    },
    {
      "cell_type": "code",
      "metadata": {
        "id": "E91iBuWhbHrS"
      },
      "source": [
        "# first LSTM layer\n",
        "model.add(tf.keras.layers.LSTM(units=90, activation='relu', return_sequences=True, input_shape=(90,1)))\n",
        "# dropout layer\n",
        "model.add(tf.keras.layers.Dropout(0.2))\n",
        "\n",
        "# second LSTM layer\n",
        "model.add(tf.keras.layers.LSTM(units=90, activation='relu', return_sequences=True))\n",
        "# dropout layer\n",
        "model.add(tf.keras.layers.Dropout(0.2))\n",
        "\n",
        "# third LSTM layer\n",
        "model.add(tf.keras.layers.LSTM(units=120, activation='relu', return_sequences=True))\n",
        "# dropout layer\n",
        "model.add(tf.keras.layers.Dropout(0.2))\n",
        "\n",
        "# fourth LSTM layer\n",
        "model.add(tf.keras.layers.LSTM(units= 180, activation='relu'))\n",
        "# dropout layer\n",
        "model.add(tf.keras.layers.Dropout(0.2))"
      ],
      "execution_count": 29,
      "outputs": []
    },
    {
      "cell_type": "code",
      "metadata": {
        "id": "FjtHWqblbLNy"
      },
      "source": [
        "# output layer\n",
        "model.add(tf.keras.layers.Dense(units=1))"
      ],
      "execution_count": 30,
      "outputs": []
    },
    {
      "cell_type": "code",
      "metadata": {
        "colab": {
          "base_uri": "https://localhost:8080/"
        },
        "id": "6wpNhOL2bNzg",
        "outputId": "16d60c8a-3890-4c4e-c4d3-c42c628672b1"
      },
      "source": [
        "model.summary()"
      ],
      "execution_count": 31,
      "outputs": [
        {
          "output_type": "stream",
          "name": "stdout",
          "text": [
            "Model: \"sequential\"\n",
            "_________________________________________________________________\n",
            "Layer (type)                 Output Shape              Param #   \n",
            "=================================================================\n",
            "lstm (LSTM)                  (None, 90, 90)            33120     \n",
            "_________________________________________________________________\n",
            "dropout (Dropout)            (None, 90, 90)            0         \n",
            "_________________________________________________________________\n",
            "lstm_1 (LSTM)                (None, 90, 90)            65160     \n",
            "_________________________________________________________________\n",
            "dropout_1 (Dropout)          (None, 90, 90)            0         \n",
            "_________________________________________________________________\n",
            "lstm_2 (LSTM)                (None, 90, 120)           101280    \n",
            "_________________________________________________________________\n",
            "dropout_2 (Dropout)          (None, 90, 120)           0         \n",
            "_________________________________________________________________\n",
            "lstm_3 (LSTM)                (None, 180)               216720    \n",
            "_________________________________________________________________\n",
            "dropout_3 (Dropout)          (None, 180)               0         \n",
            "_________________________________________________________________\n",
            "dense (Dense)                (None, 1)                 181       \n",
            "=================================================================\n",
            "Total params: 416,461\n",
            "Trainable params: 416,461\n",
            "Non-trainable params: 0\n",
            "_________________________________________________________________\n"
          ]
        }
      ]
    },
    {
      "cell_type": "code",
      "metadata": {
        "id": "VYVNEE2tbQ0U"
      },
      "source": [
        "# compile the model\n",
        "model.compile(optimizer='adam', loss='mean_squared_error')"
      ],
      "execution_count": 32,
      "outputs": []
    },
    {
      "cell_type": "code",
      "metadata": {
        "colab": {
          "base_uri": "https://localhost:8080/"
        },
        "id": "Z7JVKWHFbZ7Z",
        "outputId": "4fd033c9-4cca-45a2-e615-393e9767d2e8"
      },
      "source": [
        "model.fit(x_train,y_train, batch_size=64, epochs=75,verbose=2)"
      ],
      "execution_count": 33,
      "outputs": [
        {
          "output_type": "stream",
          "name": "stdout",
          "text": [
            "Epoch 1/75\n",
            "7/7 - 8s - loss: 0.0254\n",
            "Epoch 2/75\n",
            "7/7 - 4s - loss: 0.0146\n",
            "Epoch 3/75\n",
            "7/7 - 4s - loss: 0.0133\n",
            "Epoch 4/75\n",
            "7/7 - 4s - loss: 0.0127\n",
            "Epoch 5/75\n",
            "7/7 - 4s - loss: 0.0126\n",
            "Epoch 6/75\n",
            "7/7 - 4s - loss: 0.0127\n",
            "Epoch 7/75\n",
            "7/7 - 4s - loss: 0.0123\n",
            "Epoch 8/75\n",
            "7/7 - 4s - loss: 0.0120\n",
            "Epoch 9/75\n",
            "7/7 - 4s - loss: 0.0120\n",
            "Epoch 10/75\n",
            "7/7 - 4s - loss: 0.0109\n",
            "Epoch 11/75\n",
            "7/7 - 4s - loss: 0.0097\n",
            "Epoch 12/75\n",
            "7/7 - 4s - loss: 0.0089\n",
            "Epoch 13/75\n",
            "7/7 - 4s - loss: 0.0088\n",
            "Epoch 14/75\n",
            "7/7 - 4s - loss: 0.0070\n",
            "Epoch 15/75\n",
            "7/7 - 4s - loss: 0.0058\n",
            "Epoch 16/75\n",
            "7/7 - 4s - loss: 0.0066\n",
            "Epoch 17/75\n",
            "7/7 - 4s - loss: 0.0057\n",
            "Epoch 18/75\n",
            "7/7 - 4s - loss: 0.0049\n",
            "Epoch 19/75\n",
            "7/7 - 4s - loss: 0.0049\n",
            "Epoch 20/75\n",
            "7/7 - 4s - loss: 0.0058\n",
            "Epoch 21/75\n",
            "7/7 - 4s - loss: 0.0049\n",
            "Epoch 22/75\n",
            "7/7 - 4s - loss: 0.0048\n",
            "Epoch 23/75\n",
            "7/7 - 4s - loss: 0.0042\n",
            "Epoch 24/75\n",
            "7/7 - 4s - loss: 0.0054\n",
            "Epoch 25/75\n",
            "7/7 - 4s - loss: 0.0046\n",
            "Epoch 26/75\n",
            "7/7 - 4s - loss: 0.0045\n",
            "Epoch 27/75\n",
            "7/7 - 4s - loss: 0.0045\n",
            "Epoch 28/75\n",
            "7/7 - 4s - loss: 0.0039\n",
            "Epoch 29/75\n",
            "7/7 - 4s - loss: 0.0039\n",
            "Epoch 30/75\n",
            "7/7 - 4s - loss: 0.0043\n",
            "Epoch 31/75\n",
            "7/7 - 4s - loss: 0.0054\n",
            "Epoch 32/75\n",
            "7/7 - 4s - loss: 0.0050\n",
            "Epoch 33/75\n",
            "7/7 - 4s - loss: 0.0045\n",
            "Epoch 34/75\n",
            "7/7 - 4s - loss: 0.0043\n",
            "Epoch 35/75\n",
            "7/7 - 4s - loss: 0.0040\n",
            "Epoch 36/75\n",
            "7/7 - 4s - loss: 0.0040\n",
            "Epoch 37/75\n",
            "7/7 - 4s - loss: 0.0047\n",
            "Epoch 38/75\n",
            "7/7 - 4s - loss: 0.0049\n",
            "Epoch 39/75\n",
            "7/7 - 4s - loss: 0.0044\n",
            "Epoch 40/75\n",
            "7/7 - 4s - loss: 0.0041\n",
            "Epoch 41/75\n",
            "7/7 - 4s - loss: 0.0038\n",
            "Epoch 42/75\n",
            "7/7 - 4s - loss: 0.0038\n",
            "Epoch 43/75\n",
            "7/7 - 4s - loss: 0.0036\n",
            "Epoch 44/75\n",
            "7/7 - 4s - loss: 0.0037\n",
            "Epoch 45/75\n",
            "7/7 - 4s - loss: 0.0036\n",
            "Epoch 46/75\n",
            "7/7 - 4s - loss: 0.0039\n",
            "Epoch 47/75\n",
            "7/7 - 4s - loss: 0.0043\n",
            "Epoch 48/75\n",
            "7/7 - 4s - loss: 0.0043\n",
            "Epoch 49/75\n",
            "7/7 - 4s - loss: 0.0041\n",
            "Epoch 50/75\n",
            "7/7 - 4s - loss: 0.0038\n",
            "Epoch 51/75\n",
            "7/7 - 4s - loss: 0.0037\n",
            "Epoch 52/75\n",
            "7/7 - 4s - loss: 0.0038\n",
            "Epoch 53/75\n",
            "7/7 - 4s - loss: 0.0037\n",
            "Epoch 54/75\n",
            "7/7 - 4s - loss: 0.0035\n",
            "Epoch 55/75\n",
            "7/7 - 4s - loss: 0.0036\n",
            "Epoch 56/75\n",
            "7/7 - 4s - loss: 0.0036\n",
            "Epoch 57/75\n",
            "7/7 - 4s - loss: 0.0039\n",
            "Epoch 58/75\n",
            "7/7 - 4s - loss: 0.0036\n",
            "Epoch 59/75\n",
            "7/7 - 4s - loss: 0.0040\n",
            "Epoch 60/75\n",
            "7/7 - 4s - loss: 0.0044\n",
            "Epoch 61/75\n",
            "7/7 - 4s - loss: 0.0042\n",
            "Epoch 62/75\n",
            "7/7 - 4s - loss: 0.0039\n",
            "Epoch 63/75\n",
            "7/7 - 4s - loss: 0.0036\n",
            "Epoch 64/75\n",
            "7/7 - 4s - loss: 0.0043\n",
            "Epoch 65/75\n",
            "7/7 - 4s - loss: 0.0043\n",
            "Epoch 66/75\n",
            "7/7 - 4s - loss: 0.0042\n",
            "Epoch 67/75\n",
            "7/7 - 4s - loss: 0.0041\n",
            "Epoch 68/75\n",
            "7/7 - 4s - loss: 0.0038\n",
            "Epoch 69/75\n",
            "7/7 - 4s - loss: 0.0036\n",
            "Epoch 70/75\n",
            "7/7 - 4s - loss: 0.0034\n",
            "Epoch 71/75\n",
            "7/7 - 4s - loss: 0.0035\n",
            "Epoch 72/75\n",
            "7/7 - 4s - loss: 0.0041\n",
            "Epoch 73/75\n",
            "7/7 - 4s - loss: 0.0037\n",
            "Epoch 74/75\n",
            "7/7 - 4s - loss: 0.0036\n",
            "Epoch 75/75\n",
            "7/7 - 4s - loss: 0.0035\n"
          ]
        },
        {
          "output_type": "execute_result",
          "data": {
            "text/plain": [
              "<keras.callbacks.History at 0x7f1a67936bd0>"
            ]
          },
          "metadata": {},
          "execution_count": 33
        }
      ]
    },
    {
      "cell_type": "code",
      "metadata": {
        "id": "E4VUzPnjcEYH",
        "colab": {
          "base_uri": "https://localhost:8080/"
        },
        "outputId": "ee66933c-e898-44d5-b53d-539af7477500"
      },
      "source": [
        "valid_data"
      ],
      "execution_count": 34,
      "outputs": [
        {
          "output_type": "execute_result",
          "data": {
            "text/plain": [
              "array([ 529.4,  596.4,  649.9,  678.8,  734.6,  854.8,  882.1,  925.4,\n",
              "        963.2,  969.8, 1015.2, 1171.4, 1201.3, 1272.1, 1289.7, 1315.4,\n",
              "       1342.3, 1381.1, 1396.8, 1419.1, 1438.7, 1451.4, 1456.5, 1536.2,\n",
              "       1540.3, 1656.4, 1665.1, 1669.6, 1678.1, 1694.2, 1706.5, 1808.5,\n",
              "       1813. , 1847.3, 1875.6,    3.1,   32.6,   40.2])"
            ]
          },
          "metadata": {},
          "execution_count": 34
        }
      ]
    },
    {
      "cell_type": "code",
      "metadata": {
        "id": "vAxw1jHQc9F-",
        "colab": {
          "base_uri": "https://localhost:8080/"
        },
        "outputId": "bd1cddaf-5cf0-4df2-f9d1-948e56d138d0"
      },
      "source": [
        "valid_data.shape"
      ],
      "execution_count": 35,
      "outputs": [
        {
          "output_type": "execute_result",
          "data": {
            "text/plain": [
              "(38,)"
            ]
          },
          "metadata": {},
          "execution_count": 35
        }
      ]
    },
    {
      "cell_type": "code",
      "metadata": {
        "id": "32h8gwu9dDPz"
      },
      "source": [
        "valid_data = valid_data.reshape(-1,1)"
      ],
      "execution_count": 36,
      "outputs": []
    },
    {
      "cell_type": "code",
      "metadata": {
        "id": "ttOcj3_odPXZ",
        "colab": {
          "base_uri": "https://localhost:8080/"
        },
        "outputId": "e586ef36-7a0c-47ee-c7e6-ef5a3cca97aa"
      },
      "source": [
        "valid_data"
      ],
      "execution_count": 37,
      "outputs": [
        {
          "output_type": "execute_result",
          "data": {
            "text/plain": [
              "array([[ 529.4],\n",
              "       [ 596.4],\n",
              "       [ 649.9],\n",
              "       [ 678.8],\n",
              "       [ 734.6],\n",
              "       [ 854.8],\n",
              "       [ 882.1],\n",
              "       [ 925.4],\n",
              "       [ 963.2],\n",
              "       [ 969.8],\n",
              "       [1015.2],\n",
              "       [1171.4],\n",
              "       [1201.3],\n",
              "       [1272.1],\n",
              "       [1289.7],\n",
              "       [1315.4],\n",
              "       [1342.3],\n",
              "       [1381.1],\n",
              "       [1396.8],\n",
              "       [1419.1],\n",
              "       [1438.7],\n",
              "       [1451.4],\n",
              "       [1456.5],\n",
              "       [1536.2],\n",
              "       [1540.3],\n",
              "       [1656.4],\n",
              "       [1665.1],\n",
              "       [1669.6],\n",
              "       [1678.1],\n",
              "       [1694.2],\n",
              "       [1706.5],\n",
              "       [1808.5],\n",
              "       [1813. ],\n",
              "       [1847.3],\n",
              "       [1875.6],\n",
              "       [   3.1],\n",
              "       [  32.6],\n",
              "       [  40.2]])"
            ]
          },
          "metadata": {},
          "execution_count": 37
        }
      ]
    },
    {
      "cell_type": "code",
      "metadata": {
        "id": "aN9lqJWUd2f6"
      },
      "source": [
        "# Getting predicted accumulated soybean export at 2016\n",
        "\n",
        "#concatination\n",
        "data_total = data['AELast']\n",
        "\n",
        "#stock prices of previous 90 days for each day of 2016\n",
        "inputs = data_total[len(data_total)-len(valid_data)-90:].values\n",
        "\n",
        "# reshape (convert into numpy array)\n",
        "inputs = inputs.reshape(-1,1)\n",
        "\n",
        "#feature scaling\n",
        "inputs = sc.transform(inputs)\n",
        "\n",
        "#creating a test set\n",
        "\n",
        "x_test = []\n",
        "for i in range(90,128):\n",
        "  x_test.append(inputs[i-90:i,0])\n",
        "\n",
        "# convert in numpy array\n",
        "x_test = np.array(x_test)\n",
        "\n",
        "# convert in 3D (required to process)\n",
        "x_test = np.reshape(x_test,(x_test.shape[0], x_test.shape[1],1))\n",
        "\n",
        "# getting predicted stock prices\n",
        "predicted_accumulated_export = model.predict(x_test)\n",
        "predicted_accumulated_export = sc.inverse_transform(predicted_accumulated_export)"
      ],
      "execution_count": 38,
      "outputs": []
    },
    {
      "cell_type": "code",
      "metadata": {
        "id": "PEi0wRh8MuzZ",
        "colab": {
          "base_uri": "https://localhost:8080/"
        },
        "outputId": "8f750edc-33a7-497f-833d-b8e34077fd35"
      },
      "source": [
        "predicted_accumulated_export"
      ],
      "execution_count": 39,
      "outputs": [
        {
          "output_type": "execute_result",
          "data": {
            "text/plain": [
              "array([[ 562.68665 ],\n",
              "       [ 590.2344  ],\n",
              "       [ 623.8568  ],\n",
              "       [ 664.6682  ],\n",
              "       [ 719.79083 ],\n",
              "       [ 795.0129  ],\n",
              "       [ 890.8758  ],\n",
              "       [1005.753   ],\n",
              "       [1132.6456  ],\n",
              "       [1264.763   ],\n",
              "       [1393.5516  ],\n",
              "       [1509.637   ],\n",
              "       [1604.6932  ],\n",
              "       [1671.0533  ],\n",
              "       [1698.3169  ],\n",
              "       [1688.7977  ],\n",
              "       [1651.4974  ],\n",
              "       [1595.8439  ],\n",
              "       [1533.1411  ],\n",
              "       [1473.0588  ],\n",
              "       [1435.8829  ],\n",
              "       [1428.4346  ],\n",
              "       [1531.7761  ],\n",
              "       [1619.7931  ],\n",
              "       [1681.8707  ],\n",
              "       [1705.6404  ],\n",
              "       [1697.0392  ],\n",
              "       [1672.0249  ],\n",
              "       [1647.3578  ],\n",
              "       [1636.4495  ],\n",
              "       [1622.8156  ],\n",
              "       [1443.1584  ],\n",
              "       [ 587.45154 ],\n",
              "       [ 136.45987 ],\n",
              "       [  46.54882 ],\n",
              "       [  25.208672],\n",
              "       [  21.057716],\n",
              "       [  26.047932]], dtype=float32)"
            ]
          },
          "metadata": {},
          "execution_count": 39
        }
      ]
    },
    {
      "cell_type": "code",
      "metadata": {
        "id": "GOv6FcfkeYSO",
        "colab": {
          "base_uri": "https://localhost:8080/"
        },
        "outputId": "6db37c40-90a0-4bae-b5ad-585eea475e8a"
      },
      "source": [
        "print(predicted_accumulated_export[5]), print(valid_data[5])"
      ],
      "execution_count": 40,
      "outputs": [
        {
          "output_type": "stream",
          "name": "stdout",
          "text": [
            "[795.0129]\n",
            "[854.8]\n"
          ]
        },
        {
          "output_type": "execute_result",
          "data": {
            "text/plain": [
              "(None, None)"
            ]
          },
          "metadata": {},
          "execution_count": 40
        }
      ]
    },
    {
      "cell_type": "code",
      "metadata": {
        "id": "SVI7qx_yecs6",
        "colab": {
          "base_uri": "https://localhost:8080/",
          "height": 593
        },
        "outputId": "416fc0e6-5300-4d1c-bcfd-fcd1872a0805"
      },
      "source": [
        "# Visualising the results\n",
        "plt.plot(valid_data, color='red', label = 'Real Soybean Accumulated Export')\n",
        "plt.plot(predicted_accumulated_export, color='blue', label = 'Predicted Soybean Accumulated Export')\n",
        "plt.title('Soybean Accumulated Export Prediction')\n",
        "plt.xlabel('Time')\n",
        "plt.ylabel('Soybean Accumulated Export')\n",
        "plt.legend()\n",
        "plt.show()"
      ],
      "execution_count": 41,
      "outputs": [
        {
          "output_type": "display_data",
          "data": {
            "image/png": "[encoded data removed]",
            "text/plain": [
              "<Figure size 1440x720 with 1 Axes>"
            ]
          },
          "metadata": {
            "needs_background": "light"
          }
        }
      ]
    },
    {
      "cell_type": "code",
      "metadata": {
        "id": "OIsndkWDjfh0"
      },
      "source": [
        "ds= data[['Date','AELast']]"
      ],
      "execution_count": 42,
      "outputs": []
    },
    {
      "cell_type": "code",
      "metadata": {
        "id": "IMkox9oQjndO",
        "colab": {
          "base_uri": "https://localhost:8080/",
          "height": 236
        },
        "outputId": "6abe2af2-8095-498f-ab67-a97a07996890"
      },
      "source": [
        "ds.head()"
      ],
      "execution_count": 43,
      "outputs": [
        {
          "output_type": "execute_result",
          "data": {
            "text/html": [
              "<div>\n",
              "<style scoped>\n",
              "    .dataframe tbody tr th:only-of-type {\n",
              "        vertical-align: middle;\n",
              "    }\n",
              "\n",
              "    .dataframe tbody tr th {\n",
              "        vertical-align: top;\n",
              "    }\n",
              "\n",
              "    .dataframe thead th {\n",
              "        text-align: right;\n",
              "    }\n",
              "</style>\n",
              "<table border=\"1\" class=\"dataframe\">\n",
              "  <thead>\n",
              "    <tr style=\"text-align: right;\">\n",
              "      <th></th>\n",
              "      <th>Date</th>\n",
              "      <th>AELast</th>\n",
              "    </tr>\n",
              "    <tr>\n",
              "      <th>Date</th>\n",
              "      <th></th>\n",
              "      <th></th>\n",
              "    </tr>\n",
              "  </thead>\n",
              "  <tbody>\n",
              "    <tr>\n",
              "      <th>2006-05-18</th>\n",
              "      <td>2006-05-18</td>\n",
              "      <td>858.8</td>\n",
              "    </tr>\n",
              "    <tr>\n",
              "      <th>2006-05-25</th>\n",
              "      <td>2006-05-25</td>\n",
              "      <td>858.8</td>\n",
              "    </tr>\n",
              "    <tr>\n",
              "      <th>2006-06-01</th>\n",
              "      <td>2006-06-01</td>\n",
              "      <td>858.8</td>\n",
              "    </tr>\n",
              "    <tr>\n",
              "      <th>2006-06-08</th>\n",
              "      <td>2006-06-08</td>\n",
              "      <td>900.8</td>\n",
              "    </tr>\n",
              "    <tr>\n",
              "      <th>2006-06-15</th>\n",
              "      <td>2006-06-15</td>\n",
              "      <td>924.1</td>\n",
              "    </tr>\n",
              "  </tbody>\n",
              "</table>\n",
              "</div>"
            ],
            "text/plain": [
              "                 Date  AELast\n",
              "Date                         \n",
              "2006-05-18 2006-05-18   858.8\n",
              "2006-05-25 2006-05-25   858.8\n",
              "2006-06-01 2006-06-01   858.8\n",
              "2006-06-08 2006-06-08   900.8\n",
              "2006-06-15 2006-06-15   924.1"
            ]
          },
          "metadata": {},
          "execution_count": 43
        }
      ]
    },
    {
      "cell_type": "code",
      "metadata": {
        "id": "CdLDcrGYfcm-",
        "colab": {
          "base_uri": "https://localhost:8080/",
          "height": 717
        },
        "outputId": "9ce21c05-2d39-4fca-8942-e2d8ec0d8072"
      },
      "source": [
        "tr_data=ds[:495]\n",
        "va_data=data[495:]\n",
        "va_data['Predictions']=predicted_accumulated_export\n",
        "plt.plot(tr_data[\"AELast\"])\n",
        "plt.plot(va_data[['AELast',\"Predictions\"]])"
      ],
      "execution_count": 44,
      "outputs": [
        {
          "output_type": "stream",
          "name": "stderr",
          "text": [
            "/usr/local/lib/python3.7/dist-packages/ipykernel_launcher.py:3: SettingWithCopyWarning: \n",
            "A value is trying to be set on a copy of a slice from a DataFrame.\n",
            "Try using .loc[row_indexer,col_indexer] = value instead\n",
            "\n",
            "See the caveats in the documentation: https://pandas.pydata.org/pandas-docs/stable/user_guide/indexing.html#returning-a-view-versus-a-copy\n",
            "  This is separate from the ipykernel package so we can avoid doing imports until\n"
          ]
        },
        {
          "output_type": "execute_result",
          "data": {
            "text/plain": [
              "[<matplotlib.lines.Line2D at 0x7f1a67647fd0>,\n",
              " <matplotlib.lines.Line2D at 0x7f1a67652210>]"
            ]
          },
          "metadata": {},
          "execution_count": 44
        },
        {
          "output_type": "display_data",
          "data": {
            "image/png": "[encoded data removed]",
            "text/plain": [
              "<Figure size 1440x720 with 1 Axes>"
            ]
          },
          "metadata": {
            "needs_background": "light"
          }
        }
      ]
    },
    {
      "cell_type": "code",
      "metadata": {
        "id": "c6XE8gVmaKVW",
        "colab": {
          "base_uri": "https://localhost:8080/"
        },
        "outputId": "0eaca511-238a-4168-82bd-b1bfdc3f0e07"
      },
      "source": [
        "import math\n",
        "MSE = np.square(np.subtract(valid_data,predicted_accumulated_export)).mean()\n",
        "\n",
        "RMSE = math.sqrt(MSE)\n",
        "print(\"Root Mean Square Error:\\n\")\n",
        "print(RMSE)"
      ],
      "execution_count": 45,
      "outputs": [
        {
          "output_type": "stream",
          "name": "stdout",
          "text": [
            "Root Mean Square Error:\n",
            "\n",
            "490.2672814844983\n"
          ]
        }
      ]
    },
    {
      "cell_type": "code",
      "metadata": {
        "id": "-KuwzWLmeJTC"
      },
      "source": [
        "from sklearn.metrics import mean_squared_error"
      ],
      "execution_count": 46,
      "outputs": []
    },
    {
      "cell_type": "code",
      "metadata": {
        "id": "YM7PK8u9eyln",
        "colab": {
          "base_uri": "https://localhost:8080/"
        },
        "outputId": "404ce061-afa6-4c37-e523-10324216ed31"
      },
      "source": [
        "mean_squared_error(valid_data,predicted_accumulated_export)"
      ],
      "execution_count": 47,
      "outputs": [
        {
          "output_type": "execute_result",
          "data": {
            "text/plain": [
              "240362.0072942003"
            ]
          },
          "metadata": {},
          "execution_count": 47
        }
      ]
    },
    {
      "cell_type": "code",
      "metadata": {
        "id": "p1qgJzfKe4v3",
        "colab": {
          "base_uri": "https://localhost:8080/"
        },
        "outputId": "6b41ef1b-b0c0-46de-dd96-381a626f2e71"
      },
      "source": [
        "print(MSE)"
      ],
      "execution_count": 48,
      "outputs": [
        {
          "output_type": "stream",
          "name": "stdout",
          "text": [
            "240362.0072942003\n"
          ]
        }
      ]
    },
    {
      "cell_type": "code",
      "metadata": {
        "id": "4aiXUS9ChpnH"
      },
      "source": [
        "MAPE = np.mean(np.abs((valid_data-predicted_accumulated_export) / valid_data))*100"
      ],
      "execution_count": 49,
      "outputs": []
    },
    {
      "cell_type": "code",
      "metadata": {
        "id": "DpYjPHvdirm7",
        "colab": {
          "base_uri": "https://localhost:8080/"
        },
        "outputId": "6a07d04c-0516-4cd7-838a-a35c9541e964"
      },
      "source": [
        "MAPE"
      ],
      "execution_count": 50,
      "outputs": [
        {
          "output_type": "execute_result",
          "data": {
            "text/plain": [
              "37.41815634240118"
            ]
          },
          "metadata": {},
          "execution_count": 50
        }
      ]
    }
  ]
}